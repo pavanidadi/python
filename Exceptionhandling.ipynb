{
 "cells": [
  {
   "cell_type": "code",
   "execution_count": 1,
   "metadata": {},
   "outputs": [
    {
     "name": "stdout",
     "output_type": "stream",
     "text": [
      "Cannot excecute due to ZeroDivisionError\n"
     ]
    }
   ],
   "source": [
    "try:\n",
    "    n = 5;\n",
    "    s = n % 0\n",
    "    print(s)\n",
    "except ZeroDivisionError:\n",
    "    print('Cannot excecute due to ZeroDivisionError')\n",
    "except IOError:\n",
    "    print('Cannot excecute due to I/O error')\n",
    "except ValueError:\n",
    "    print('Cannot excecute due to ValueError')\n",
    "except AttributeError:\n",
    "    print('Cannot excecute due to AttributeError')"
   ]
  },
  {
   "cell_type": "code",
   "execution_count": 2,
   "metadata": {},
   "outputs": [
    {
     "name": "stdout",
     "output_type": "stream",
     "text": [
      "Americans play Basketball.\n",
      "Americans play Cricket.\n",
      "Americans watch Basketball.\n",
      "Americans watch Cricket.\n",
      "Indians play Basketball.\n",
      "Indians play Cricket.\n",
      "Indians watch Basketball.\n",
      "Indians watch Cricket.\n"
     ]
    }
   ],
   "source": [
    "subjects = [\"Americans\",\"Indians\"]\n",
    "\n",
    "verbs = [\"play\",\"watch\"]\n",
    "\n",
    "objects = [\"Basketball\",\"Cricket\"]\n",
    "\n",
    "for x in subjects:\n",
    "    for y in verbs:\n",
    "        for z in objects:\n",
    "            print(x+\" \"+y+\" \"+z+\".\")"
   ]
  },
  {
   "cell_type": "code",
   "execution_count": null,
   "metadata": {},
   "outputs": [],
   "source": []
  }
 ],
 "metadata": {
  "kernelspec": {
   "display_name": "Python 3",
   "language": "python",
   "name": "python3"
  },
  "language_info": {
   "codemirror_mode": {
    "name": "ipython",
    "version": 3
   },
   "file_extension": ".py",
   "mimetype": "text/x-python",
   "name": "python",
   "nbconvert_exporter": "python",
   "pygments_lexer": "ipython3",
   "version": "3.7.7"
  }
 },
 "nbformat": 4,
 "nbformat_minor": 4
}
