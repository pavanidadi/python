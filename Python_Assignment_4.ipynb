{
 "cells": [
  {
   "cell_type": "code",
   "execution_count": 16,
   "metadata": {},
   "outputs": [
    {
     "name": "stdout",
     "output_type": "stream",
     "text": [
      "enter first side of the triangle:5\n",
      "enter second side of the triangle:6\n",
      "enter third side of the triangle:7\n",
      "area =  14.696938456699069\n"
     ]
    }
   ],
   "source": [
    "def __init__(self, a, b, c):\n",
    "    self.a = a\n",
    "    self.b = b\n",
    "    self.c = c\n",
    "    def area(self):\n",
    "        s = (self.a + self.b + self.c) / 2\n",
    "        area = math.sqrt(s*(s-self.a)*(self.b)*(self.c))\n",
    "        return area\n",
    "if __name__ == \"__main__\":\n",
    "    a = float(input('enter first side of the triangle:'))\n",
    "    b = float(input('enter second side of the triangle:'))\n",
    "    c = float(input('enter third side of the triangle:'))\n",
    "    print(\"area = \",area)"
   ]
  },
  {
   "cell_type": "code",
   "execution_count": 14,
   "metadata": {},
   "outputs": [
    {
     "name": "stdout",
     "output_type": "stream",
     "text": [
      "input the list of words:adithya,vegi,naidu\n",
      "input the integer:7\n",
      "the list of words greater than the integer is []\n"
     ]
    }
   ],
   "source": [
    "def filter_long_words(string,number):\n",
    "    for i in range(len(string)):\n",
    "        listwords = []\n",
    "        if len(string[i]) > number:\n",
    "            listwords.append(string[i])\n",
    "        return listwords\n",
    "def main():\n",
    "    words = input('input the list of words:')\n",
    "    integer = eval(input('input the integer:'))\n",
    "    word_1 = filter_long_words(words,integer)\n",
    "    print('the list of words greater than the integer is',word_1)\n",
    "main()"
   ]
  },
  {
   "cell_type": "code",
   "execution_count": 18,
   "metadata": {},
   "outputs": [
    {
     "name": "stdout",
     "output_type": "stream",
     "text": [
      "input the list of words:[adithya,vegi,naidu]\n",
      "input the integer:5\n",
      "[]\n"
     ]
    }
   ],
   "source": [
    "def filter_long_words(string,number):\n",
    "    for i in range(len(string)):\n",
    "        listwords = []\n",
    "        if len(string[i]) > number:\n",
    "            listwords.append(string[i])\n",
    "        return listwords\n",
    "words = input('input the list of words:')\n",
    "integer = eval(input('input the integer:'))\n",
    "print(str(filter_long_words(words,integer)))"
   ]
  },
  {
   "cell_type": "code",
   "execution_count": null,
   "metadata": {},
   "outputs": [],
   "source": [
    "def filter_long_words(string,number):\n",
    "    for i in range(len(string)):\n",
    "        listwords = []\n",
    "        if len(string[i]) > number:\n",
    "            listwords.append(string[i])\n",
    "        return listwords\n",
    "print(str(filter_long_words(inputlistwords,inputinteger)))"
   ]
  },
  {
   "cell_type": "code",
   "execution_count": 21,
   "metadata": {},
   "outputs": [
    {
     "ename": "SyntaxError",
     "evalue": "invalid syntax (<ipython-input-21-b034df5f18fc>, line 4)",
     "output_type": "error",
     "traceback": [
      "\u001b[1;36m  File \u001b[1;32m\"<ipython-input-21-b034df5f18fc>\"\u001b[1;36m, line \u001b[1;32m4\u001b[0m\n\u001b[1;33m    print filter_long_word([\"test\",\"not\",\"this should\"],5)\u001b[0m\n\u001b[1;37m                         ^\u001b[0m\n\u001b[1;31mSyntaxError\u001b[0m\u001b[1;31m:\u001b[0m invalid syntax\n"
     ]
    }
   ],
   "source": [
    "def filter_long_word(string,number):\n",
    "    return filter(lambda x: len(x)>number,string)\n",
    "\n",
    "print filter_long_word([\"test\",\"not\",\"this should\"],5)"
   ]
  },
  {
   "cell_type": "code",
   "execution_count": 22,
   "metadata": {},
   "outputs": [
    {
     "name": "stdout",
     "output_type": "stream",
     "text": [
      "input the list of words:[adithya,vegi,naidu]\n",
      "input the integer:5\n",
      "the list of words greater than the integer is <filter object at 0x000001909B372CC8>\n"
     ]
    }
   ],
   "source": [
    "def filter_long_words(string,number):\n",
    "     return filter(lambda x: len(x)>number,string)\n",
    "    \n",
    "words = input('input the list of words:')\n",
    "integer = eval(input('input the integer:'))\n",
    "word_1 = filter_long_words(words,integer)\n",
    "print('the list of words greater than the integer is:',word_1)"
   ]
  },
  {
   "cell_type": "code",
   "execution_count": 24,
   "metadata": {},
   "outputs": [
    {
     "ename": "TypeError",
     "evalue": "long_words() takes 0 positional arguments but 2 were given",
     "output_type": "error",
     "traceback": [
      "\u001b[1;31m---------------------------------------------------------------------------\u001b[0m",
      "\u001b[1;31mTypeError\u001b[0m                                 Traceback (most recent call last)",
      "\u001b[1;32m<ipython-input-24-f351d1c1f276>\u001b[0m in \u001b[0;36m<module>\u001b[1;34m\u001b[0m\n\u001b[0;32m      6\u001b[0m             \u001b[0mword_len\u001b[0m\u001b[1;33m.\u001b[0m\u001b[0mappend\u001b[0m\u001b[1;33m(\u001b[0m\u001b[0mx\u001b[0m\u001b[1;33m)\u001b[0m\u001b[1;33m\u001b[0m\u001b[1;33m\u001b[0m\u001b[0m\n\u001b[0;32m      7\u001b[0m         \u001b[1;32mreturn\u001b[0m \u001b[0mword_len\u001b[0m\u001b[1;33m\u001b[0m\u001b[1;33m\u001b[0m\u001b[0m\n\u001b[1;32m----> 8\u001b[1;33m \u001b[0mprint\u001b[0m\u001b[1;33m(\u001b[0m\u001b[0mlong_words\u001b[0m\u001b[1;33m(\u001b[0m\u001b[1;36m3\u001b[0m\u001b[1;33m,\u001b[0m\u001b[1;34m\"the quick brown fox jumps over the lazy dog\"\u001b[0m\u001b[1;33m)\u001b[0m\u001b[1;33m)\u001b[0m\u001b[1;33m\u001b[0m\u001b[1;33m\u001b[0m\u001b[0m\n\u001b[0m",
      "\u001b[1;31mTypeError\u001b[0m: long_words() takes 0 positional arguments but 2 were given"
     ]
    }
   ],
   "source": [
    "def long_words():\n",
    "    wor_len = []\n",
    "    txt = str.split(\" \")\n",
    "    for x in txt:\n",
    "        if len(x) > n:\n",
    "            word_len.append(x)\n",
    "    return word_len\n",
    "print(long_words(3,\"the quick brown fox jumps over the lazy dog\"))"
   ]
  },
  {
   "cell_type": "code",
   "execution_count": 26,
   "metadata": {},
   "outputs": [
    {
     "ename": "SyntaxError",
     "evalue": "invalid syntax (<ipython-input-26-202c72f4143e>, line 9)",
     "output_type": "error",
     "traceback": [
      "\u001b[1;36m  File \u001b[1;32m\"<ipython-input-26-202c72f4143e>\"\u001b[1;36m, line \u001b[1;32m9\u001b[0m\n\u001b[1;33m    print map_to_length_for(words)\u001b[0m\n\u001b[1;37m                          ^\u001b[0m\n\u001b[1;31mSyntaxError\u001b[0m\u001b[1;31m:\u001b[0m invalid syntax\n"
     ]
    }
   ],
   "source": [
    "def map_to_length_for(words):\n",
    "    length = []\n",
    "    for word in words:\n",
    "        lengths.append(len(word))\n",
    "    return length\n",
    "\n",
    "if __name__ == \"__main__\":\n",
    "    words = print(\"enter list of words:\")\n",
    "    print map_to_length_for(words)"
   ]
  },
  {
   "cell_type": "code",
   "execution_count": null,
   "metadata": {},
   "outputs": [
    {
     "name": "stdout",
     "output_type": "stream",
     "text": [
      "enter the character\n"
     ]
    }
   ],
   "source": [
    "def vowel(inputChar):\n",
    "    if(inputChar ==\"a\" or inputChar==\"A\" or \n",
    "       inputChar == \"e\" or inputChar==\"E\" or \n",
    "       inputChar == \"i\" or inputChar==\"I\" or\n",
    "       inputChar == \"o\" or inputChar ==\"O\" or\n",
    "      inputChar ==\"u\" or inputChar==\"U\"):\n",
    "        return \"True\"\n",
    "    else:\n",
    "        return \"False\"\n",
    "    \n",
    "print(\"enter the character\")\n",
    "inputChar = input()\n",
    "\n",
    "if vowel(inputChar) == \"True\":\n",
    "    print(\"entered character is vowel\")\n",
    "else:\n",
    "    print(\"entered character is not vowel\")"
   ]
  },
  {
   "cell_type": "code",
   "execution_count": 3,
   "metadata": {},
   "outputs": [
    {
     "ename": "IndentationError",
     "evalue": "expected an indented block (<ipython-input-3-2f8de5e24329>, line 15)",
     "output_type": "error",
     "traceback": [
      "\u001b[1;36m  File \u001b[1;32m\"<ipython-input-3-2f8de5e24329>\"\u001b[1;36m, line \u001b[1;32m15\u001b[0m\n\u001b[1;33m    word = ['abv', 'try me', 'test']\u001b[0m\n\u001b[1;37m       ^\u001b[0m\n\u001b[1;31mIndentationError\u001b[0m\u001b[1;31m:\u001b[0m expected an indented block\n"
     ]
    }
   ],
   "source": [
    "def map_to_lengths_for(words):\n",
    "    lengths = []\n",
    "    for word in words:\n",
    "        lengths.append(len(words))\n",
    "    return lengths\n",
    "\n",
    "def map_to_lengths_map(words):\n",
    "    return map(len,words)\n",
    "\n",
    "def map_to_lenths_lists(words):\n",
    "    return [len(word) for word in words]\n",
    "\n",
    "if __name__ == \"__main__\":\n",
    "    if __name__ == \"__main__\":\n",
    "    word = ['abv', 'try me', 'test']\n",
    "    print map_to_length_for(words)\n",
    "    print map_to_length_map(words)\n",
    "    print map_to_length_lists(words)\n",
    "    "
   ]
  },
  {
   "cell_type": "code",
   "execution_count": null,
   "metadata": {},
   "outputs": [],
   "source": []
  }
 ],
 "metadata": {
  "kernelspec": {
   "display_name": "Python 3",
   "language": "python",
   "name": "python3"
  },
  "language_info": {
   "codemirror_mode": {
    "name": "ipython",
    "version": 3
   },
   "file_extension": ".py",
   "mimetype": "text/x-python",
   "name": "python",
   "nbconvert_exporter": "python",
   "pygments_lexer": "ipython3",
   "version": "3.7.7"
  }
 },
 "nbformat": 4,
 "nbformat_minor": 4
}
