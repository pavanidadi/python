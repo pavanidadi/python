{
 "cells": [
  {
   "cell_type": "markdown",
   "metadata": {},
   "source": [
    "# "
   ]
  },
  {
   "cell_type": "code",
   "execution_count": 27,
   "metadata": {},
   "outputs": [],
   "source": [
    "import numpy as np"
   ]
  },
  {
   "cell_type": "code",
   "execution_count": 28,
   "metadata": {},
   "outputs": [],
   "source": [
    "def gen_vander_matrix(input_vector, n, increasing=False):\n",
    "    \n",
    "    if not increasing:\n",
    "        output_matx = np.array([x**(n-1-i) for x in input_vector for i in range(n)]).reshape(input_vector.size,n)\n",
    "    elif increasing:\n",
    "        output_matx = np.array([x**i for x in input_vector for i in range(n)]).reshape(input_vector.size,n)\n",
    "    \n",
    "    return output_matx"
   ]
  },
  {
   "cell_type": "code",
   "execution_count": 29,
   "metadata": {},
   "outputs": [],
   "source": [
    "inputvector = np.array([1,3,5,7,9])\n",
    "Output_columns = 3\n",
    "output_matx_dec_order = gen_vander_matrix(inputvector,Output_columns,False)\n",
    "output_matx_inc_order = gen_vander_matrix(inputvector,Output_columns,True)"
   ]
  },
  {
   "cell_type": "code",
   "execution_count": 30,
   "metadata": {},
   "outputs": [
    {
     "name": "stdout",
     "output_type": "stream",
     "text": [
      "The input array is: [1 3 5 7 9] \n",
      "\n",
      "Number of columns in output matrix should be: 3 \n",
      "\n",
      "Vander matrix in decreasing order of powers:\n",
      "\n",
      " [[ 1  1  1]\n",
      " [ 9  3  1]\n",
      " [25  5  1]\n",
      " [49  7  1]\n",
      " [81  9  1]] \n",
      "\n",
      "Vander matrix in increasing order of powers:\n",
      "\n",
      " [[ 1  1  1]\n",
      " [ 1  3  9]\n",
      " [ 1  5 25]\n",
      " [ 1  7 49]\n",
      " [ 1  9 81]] \n",
      "\n"
     ]
    }
   ],
   "source": [
    "print(\"The input array is:\",inputvector,\"\\n\")\n",
    "print(\"Number of columns in output matrix should be:\",Output_columns,\"\\n\")\n",
    "print(\"Vander matrix in decreasing order of powers:\\n\\n\",output_matx_dec_order,\"\\n\")\n",
    "print(\"Vander matrix in increasing order of powers:\\n\\n\",output_matx_inc_order,\"\\n\")"
   ]
  },
  {
   "cell_type": "code",
   "execution_count": 31,
   "metadata": {},
   "outputs": [],
   "source": [
    "inputvector = np.array([2,4,6,8,10])\n",
    "Output_columns = 5\n",
    "output_matx_dec_order = gen_vander_matrix(inputvector,Output_columns,False)\n",
    "output_matx_inc_order = gen_vander_matrix(inputvector,Output_columns,True)"
   ]
  },
  {
   "cell_type": "code",
   "execution_count": 32,
   "metadata": {},
   "outputs": [
    {
     "name": "stdout",
     "output_type": "stream",
     "text": [
      "The input array is: [ 2  4  6  8 10] \n",
      "\n",
      "Number of columns in output matrix should be: 5 \n",
      "\n",
      "Vander matrix in decreasing order of powers:\n",
      "\n",
      " [[   16     8     4     2     1]\n",
      " [  256    64    16     4     1]\n",
      " [ 1296   216    36     6     1]\n",
      " [ 4096   512    64     8     1]\n",
      " [10000  1000   100    10     1]] \n",
      "\n",
      "Vander matrix in increasing order of powers:\n",
      "\n",
      " [[    1     2     4     8    16]\n",
      " [    1     4    16    64   256]\n",
      " [    1     6    36   216  1296]\n",
      " [    1     8    64   512  4096]\n",
      " [    1    10   100  1000 10000]] \n",
      "\n"
     ]
    }
   ],
   "source": [
    "print(\"The input array is:\",inputvector,\"\\n\")\n",
    "print(\"Number of columns in output matrix should be:\",Output_columns,\"\\n\")\n",
    "print(\"Vander matrix in decreasing order of powers:\\n\\n\",output_matx_dec_order,\"\\n\")\n",
    "print(\"Vander matrix in increasing order of powers:\\n\\n\",output_matx_inc_order,\"\\n\")"
   ]
  },
  {
   "cell_type": "markdown",
   "metadata": {},
   "source": [
    "#  2. Problem Statement\n",
    " ##Given a sequence of n values x1, x2, ..., xn and a window size k>0, the k-th\n",
    "moving\n",
    " average of the given sequence is defined as follows:\n",
    " The moving average sequence has n-k+1 elements as shown below.\n",
    " The moving averages with k=4 of a ten-value sequence (n=10) is shown below\n",
    " i 1 2 3 4 5 6 7 8 9 10\n",
    " ===== == == == == == == == == == ==\n",
    " Input 10 20 30 40 50 60 70 80 90 100\n",
    " y1 25 = (10+20+30+40)/4\n",
    " y2 35 = (20+30+40+50)/4\n",
    " y3 45 = (30+40+50+60)/4\n",
    " y4 55 = (40+50+60+70)/4\n",
    " y5 65 = (50+60+70+80)/4\n",
    " y6 75 = (60+70+80+90)/4\n",
    " y7 85 = (70+80+90+100)/4\n",
    " Thus, the moving average sequence has n-k+1=10-4+1=7 values.\n",
    " Problem Statement\n",
    " Write a function to find moving average in an array over a window:\n",
    " Test it over [3, 5, 7, 2, 8, 10, 11, 65, 72, 81, 99, 100, 150] and window of 3."
   ]
  },
  {
   "cell_type": "code",
   "execution_count": 33,
   "metadata": {},
   "outputs": [],
   "source": [
    "def moving_average(x, n=3) :\n",
    "    x_sum = np.cumsum(x, dtype=float)\n",
    "    x_sum[n:] = x_sum[n:] - x_sum[:-n]\n",
    "    return x_sum[n - 1:] / n"
   ]
  },
  {
   "cell_type": "code",
   "execution_count": 34,
   "metadata": {},
   "outputs": [
    {
     "data": {
      "text/plain": [
       "array([  5.  ,   4.67,   5.67,   6.67,   9.67,  28.67,  49.33,  72.67,\n",
       "        84.  ,  93.33, 116.33])"
      ]
     },
     "execution_count": 34,
     "metadata": {},
     "output_type": "execute_result"
    }
   ],
   "source": [
    "x=[3, 5, 7, 2, 8, 10, 11, 65, 72, 81, 99, 100, 150]\n",
    "x1=np.array(x)\n",
    "np.array(moving_average(x1,n=3)).round(2)"
   ]
  },
  {
   "cell_type": "code",
   "execution_count": null,
   "metadata": {},
   "outputs": [],
   "source": []
  },
  {
   "cell_type": "code",
   "execution_count": null,
   "metadata": {},
   "outputs": [],
   "source": []
  }
 ],
 "metadata": {
  "kernelspec": {
   "display_name": "Python 3",
   "language": "python",
   "name": "python3"
  },
  "language_info": {
   "codemirror_mode": {
    "name": "ipython",
    "version": 3
   },
   "file_extension": ".py",
   "mimetype": "text/x-python",
   "name": "python",
   "nbconvert_exporter": "python",
   "pygments_lexer": "ipython3",
   "version": "3.7.7"
  }
 },
 "nbformat": 4,
 "nbformat_minor": 4
}
